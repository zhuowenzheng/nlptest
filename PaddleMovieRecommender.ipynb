{
  "nbformat": 4,
  "nbformat_minor": 0,
  "metadata": {
    "colab": {
      "name": "Untitled0.ipynb",
      "provenance": [],
      "authorship_tag": "ABX9TyNEWQ7aQwtFI1VRfeUQY/1u",
      "include_colab_link": true
    },
    "kernelspec": {
      "name": "python3",
      "display_name": "Python 3"
    },
    "language_info": {
      "name": "python"
    },
    "accelerator": "GPU"
  },
  "cells": [
    {
      "cell_type": "markdown",
      "metadata": {
        "id": "view-in-github",
        "colab_type": "text"
      },
      "source": [
        "<a href=\"https://colab.research.google.com/github/zhuowenzheng/nlptest/blob/master/PaddleMovieRecommender.ipynb\" target=\"_parent\"><img src=\"https://colab.research.google.com/assets/colab-badge.svg\" alt=\"Open In Colab\"/></a>"
      ]
    },
    {
      "cell_type": "code",
      "execution_count": 5,
      "metadata": {
        "colab": {
          "base_uri": "https://localhost:8080/"
        },
        "id": "qGkJznTHFYZt",
        "outputId": "79e05fac-9e97-488b-c72b-0375ac3b3bf0"
      },
      "outputs": [
        {
          "output_type": "stream",
          "name": "stdout",
          "text": [
            "Collecting paddlepaddle-gpu==2.2.2\n",
            "  Downloading paddlepaddle_gpu-2.2.2-cp37-cp37m-manylinux1_x86_64.whl (435.4 MB)\n",
            "\u001b[K     |████████████████████████████████| 435.4 MB 28 kB/s \n",
            "\u001b[?25hRequirement already satisfied: protobuf>=3.1.0 in /usr/local/lib/python3.7/dist-packages (from paddlepaddle-gpu==2.2.2) (3.17.3)\n",
            "Requirement already satisfied: decorator in /usr/local/lib/python3.7/dist-packages (from paddlepaddle-gpu==2.2.2) (4.4.2)\n",
            "Requirement already satisfied: astor in /usr/local/lib/python3.7/dist-packages (from paddlepaddle-gpu==2.2.2) (0.8.1)\n",
            "Requirement already satisfied: six in /usr/local/lib/python3.7/dist-packages (from paddlepaddle-gpu==2.2.2) (1.15.0)\n",
            "Requirement already satisfied: numpy>=1.13 in /usr/local/lib/python3.7/dist-packages (from paddlepaddle-gpu==2.2.2) (1.21.6)\n",
            "Requirement already satisfied: requests>=2.20.0 in /usr/local/lib/python3.7/dist-packages (from paddlepaddle-gpu==2.2.2) (2.23.0)\n",
            "Requirement already satisfied: Pillow in /usr/local/lib/python3.7/dist-packages (from paddlepaddle-gpu==2.2.2) (7.1.2)\n",
            "Requirement already satisfied: idna<3,>=2.5 in /usr/local/lib/python3.7/dist-packages (from requests>=2.20.0->paddlepaddle-gpu==2.2.2) (2.10)\n",
            "Requirement already satisfied: urllib3!=1.25.0,!=1.25.1,<1.26,>=1.21.1 in /usr/local/lib/python3.7/dist-packages (from requests>=2.20.0->paddlepaddle-gpu==2.2.2) (1.24.3)\n",
            "Requirement already satisfied: chardet<4,>=3.0.2 in /usr/local/lib/python3.7/dist-packages (from requests>=2.20.0->paddlepaddle-gpu==2.2.2) (3.0.4)\n",
            "Requirement already satisfied: certifi>=2017.4.17 in /usr/local/lib/python3.7/dist-packages (from requests>=2.20.0->paddlepaddle-gpu==2.2.2) (2021.10.8)\n",
            "Installing collected packages: paddlepaddle-gpu\n",
            "Successfully installed paddlepaddle-gpu-2.2.2\n"
          ]
        }
      ],
      "source": [
        "#!pip uninstall paddlepaddle\n",
        "!python -m pip install paddlepaddle-gpu==2.2.2\n",
        "#!pip uninstall paddlepaddle"
      ]
    },
    {
      "cell_type": "code",
      "source": [
        "import pandas as pd\n",
        "import numpy as np\n",
        "import paddle\n",
        "import paddle.nn as nn\n",
        "from paddle.io import Dataset\n",
        "\n",
        "print(paddle.__version__)\n",
        "\n"
      ],
      "metadata": {
        "colab": {
          "base_uri": "https://localhost:8080/"
        },
        "id": "9jaQOoyoFcc5",
        "outputId": "b13b1766-b403-4944-aa30-3760e824c633"
      },
      "execution_count": 6,
      "outputs": [
        {
          "output_type": "stream",
          "name": "stdout",
          "text": [
            "2.2.2\n"
          ]
        }
      ]
    },
    {
      "cell_type": "code",
      "source": [
        "from google.colab import drive\n",
        "drive.mount('/content/drive')"
      ],
      "metadata": {
        "colab": {
          "base_uri": "https://localhost:8080/"
        },
        "id": "7LEYsEE4GISA",
        "outputId": "6a5d986c-b0de-46ee-a6fb-13cf60067327"
      },
      "execution_count": 7,
      "outputs": [
        {
          "output_type": "stream",
          "name": "stdout",
          "text": [
            "Mounted at /content/drive\n"
          ]
        }
      ]
    },
    {
      "cell_type": "code",
      "source": [
        "df = pd.read_csv('/content/drive/My Drive/ml-20m/ratings.csv')\n",
        "user_ids = df[\"userId\"].unique().tolist()\n",
        "user2user_encoded = {x: i for i, x in enumerate(user_ids)}\n",
        "userencoded2user = {i: x for i, x in enumerate(user_ids)}\n",
        "movie_ids = df[\"movieId\"].unique().tolist()\n",
        "movie2movie_encoded = {x: i for i, x in enumerate(movie_ids)}\n",
        "movie_encoded2movie = {i: x for i, x in enumerate(movie_ids)}\n",
        "df[\"user\"] = df[\"userId\"].map(user2user_encoded)\n",
        "df[\"movie\"] = df[\"movieId\"].map(movie2movie_encoded)\n",
        "\n",
        "num_users = len(user2user_encoded)\n",
        "num_movies = len(movie_encoded2movie)\n",
        "df[\"rating\"] = df[\"rating\"].values.astype(np.float32)\n",
        "# 最小和最大额定值将在以后用于标准化额定值\n",
        "min_rating = min(df[\"rating\"])\n",
        "max_rating = max(df[\"rating\"])\n",
        "\n",
        "print(\n",
        "    \"Number of users: {}, Number of Movies: {}, Min rating: {}, Max rating: {}\".format(\n",
        "        num_users, num_movies, min_rating, max_rating\n",
        "    )\n",
        ")\n",
        "\n"
      ],
      "metadata": {
        "colab": {
          "base_uri": "https://localhost:8080/"
        },
        "id": "_HEoeE_RGAsf",
        "outputId": "f59f2897-31cf-4f52-f951-9c0e75f9f9bb"
      },
      "execution_count": 10,
      "outputs": [
        {
          "output_type": "stream",
          "name": "stdout",
          "text": [
            "Number of users: 138493, Number of Movies: 26744, Min rating: 0.5, Max rating: 5.0\n"
          ]
        }
      ]
    },
    {
      "cell_type": "code",
      "source": [
        "df = df.sample(frac=1, random_state=42)\n",
        "x = df[[\"user\", \"movie\"]].values\n",
        "# 规范化0和1之间的目标。使训练更容易。\n",
        "y = df[\"rating\"].apply(lambda x: (x - min_rating) / (max_rating - min_rating)).values\n",
        "# 假设对90%的数据进行训练，对10%的数据进行验证。\n",
        "train_indices = int(0.9 * df.shape[0])\n",
        "x_train, x_val, y_train, y_val = (\n",
        "    x[:train_indices],\n",
        "    x[train_indices:],\n",
        "    y[:train_indices],\n",
        "    y[train_indices:],\n",
        ")\n",
        "y_train = y_train[: ,np.newaxis]\n",
        "y_val = y_val[: ,np.newaxis]\n",
        "y_train = y_train.astype(np.float32)\n",
        "y_val = y_val.astype(np.float32)\n",
        "\n",
        "# 自定义数据集\n",
        "#映射式(map-style)数据集需要继承paddle.io.Dataset\n",
        "class SelfDefinedDataset(Dataset):\n",
        "    def __init__(self, data_x, data_y, mode = 'train'):\n",
        "        super(SelfDefinedDataset, self).__init__()\n",
        "        self.data_x = data_x\n",
        "        self.data_y = data_y\n",
        "        self.mode = mode\n",
        "\n",
        "    def __getitem__(self, idx):\n",
        "        if self.mode == 'predict':\n",
        "           return self.data_x[idx]\n",
        "        else:\n",
        "           return self.data_x[idx], self.data_y[idx]\n",
        "\n",
        "    def __len__(self):\n",
        "        return len(self.data_x)\n",
        "        \n",
        "traindataset = SelfDefinedDataset(x_train, y_train)\n",
        "for data, label in traindataset:\n",
        "    print(data.shape, label.shape)\n",
        "    print(data, label)\n",
        "    break\n",
        "train_loader = paddle.io.DataLoader(traindataset, batch_size = 128, shuffle = True)\n",
        "for batch_id, data in enumerate(train_loader()):\n",
        "    x_data = data[0]\n",
        "    y_data = data[1]\n",
        "\n",
        "    print(x_data.shape)\n",
        "    print(y_data.shape)\n",
        "    break\n",
        "\n",
        "testdataset = SelfDefinedDataset(x_val, y_val)\n",
        "test_loader = paddle.io.DataLoader(testdataset, batch_size = 128, shuffle = True)        \n",
        "for batch_id, data in enumerate(test_loader()):\n",
        "    x_data = data[0]\n",
        "    y_data = data[1]\n",
        "\n",
        "    print(x_data.shape)\n",
        "    print(y_data.shape)\n",
        "    break\n",
        "\n"
      ],
      "metadata": {
        "colab": {
          "base_uri": "https://localhost:8080/"
        },
        "id": "JI-DttejGEZb",
        "outputId": "072c305c-0d0e-4d22-a4db-124e0824aea8"
      },
      "execution_count": 11,
      "outputs": [
        {
          "output_type": "stream",
          "name": "stdout",
          "text": [
            "(2,) (1,)\n",
            "[122269   1154] [0.6666667]\n",
            "[128, 2]\n",
            "[128, 1]\n",
            "[128, 2]\n",
            "[128, 1]\n"
          ]
        }
      ]
    },
    {
      "cell_type": "code",
      "source": [
        "EMBEDDING_SIZE = 50\n",
        "\n",
        "class RecommenderNet(nn.Layer):\n",
        "    def __init__(self, num_users, num_movies, embedding_size):\n",
        "        super(RecommenderNet, self).__init__()\n",
        "        self.num_users = num_users\n",
        "        self.num_movies = num_movies\n",
        "        self.embedding_size = embedding_size\n",
        "        weight_attr_user = paddle.ParamAttr(\n",
        "            regularizer = paddle.regularizer.L2Decay(1e-6),\n",
        "            initializer = nn.initializer.KaimingNormal()\n",
        "            )\n",
        "        self.user_embedding = nn.Embedding(\n",
        "            num_users,\n",
        "            embedding_size,\n",
        "            weight_attr=weight_attr_user\n",
        "        )\n",
        "        self.user_bias = nn.Embedding(num_users, 1)\n",
        "        weight_attr_movie = paddle.ParamAttr(\n",
        "            regularizer = paddle.regularizer.L2Decay(1e-6),\n",
        "            initializer = nn.initializer.KaimingNormal()\n",
        "            )\n",
        "        self.movie_embedding = nn.Embedding(\n",
        "            num_movies,\n",
        "            embedding_size,\n",
        "            weight_attr=weight_attr_movie\n",
        "        )\n",
        "        self.movie_bias = nn.Embedding(num_movies, 1)\n",
        "\n",
        "    def forward(self, inputs):\n",
        "        user_vector = self.user_embedding(inputs[:, 0])\n",
        "        user_bias = self.user_bias(inputs[:, 0])\n",
        "        movie_vector = self.movie_embedding(inputs[:, 1])\n",
        "        movie_bias = self.movie_bias(inputs[:, 1])\n",
        "        dot_user_movie = paddle.dot(user_vector, movie_vector)\n",
        "        x = dot_user_movie + user_bias + movie_bias\n",
        "        x = nn.functional.sigmoid(x)\n",
        "\n",
        "        return x\n",
        "\n"
      ],
      "metadata": {
        "id": "g3IZnuLBHi5x"
      },
      "execution_count": 12,
      "outputs": []
    },
    {
      "cell_type": "code",
      "source": [
        "paddle.device.get_device()\n",
        "#paddle.device.set_device(\"gpu\")\n",
        "#paddle.fluid.is_compiled_with_cuda()"
      ],
      "metadata": {
        "colab": {
          "base_uri": "https://localhost:8080/",
          "height": 37
        },
        "id": "UVjh56uxH1JF",
        "outputId": "95f48441-1156-47f9-d766-7cddbee235eb"
      },
      "execution_count": 13,
      "outputs": [
        {
          "output_type": "execute_result",
          "data": {
            "text/plain": [
              "'gpu:0'"
            ],
            "application/vnd.google.colaboratory.intrinsic+json": {
              "type": "string"
            }
          },
          "metadata": {},
          "execution_count": 13
        }
      ]
    },
    {
      "cell_type": "code",
      "source": [
        "!pip install visualdl"
      ],
      "metadata": {
        "colab": {
          "base_uri": "https://localhost:8080/"
        },
        "id": "pl0zNHDmIc8V",
        "outputId": "1a9e329d-bed2-4165-9d01-9147de4fa355"
      },
      "execution_count": 17,
      "outputs": [
        {
          "output_type": "stream",
          "name": "stdout",
          "text": [
            "Collecting visualdl\n",
            "  Downloading visualdl-2.2.3-py3-none-any.whl (2.7 MB)\n",
            "\u001b[K     |████████████████████████████████| 2.7 MB 3.8 MB/s \n",
            "\u001b[?25hRequirement already satisfied: Pillow>=7.0.0 in /usr/local/lib/python3.7/dist-packages (from visualdl) (7.1.2)\n",
            "Requirement already satisfied: six>=1.14.0 in /usr/local/lib/python3.7/dist-packages (from visualdl) (1.15.0)\n",
            "Collecting bce-python-sdk\n",
            "  Downloading bce-python-sdk-0.8.64.tar.gz (127 kB)\n",
            "\u001b[K     |████████████████████████████████| 127 kB 46.8 MB/s \n",
            "\u001b[?25hCollecting Flask-Babel>=1.0.0\n",
            "  Downloading Flask_Babel-2.0.0-py3-none-any.whl (9.3 kB)\n",
            "Requirement already satisfied: pandas in /usr/local/lib/python3.7/dist-packages (from visualdl) (1.3.5)\n",
            "Requirement already satisfied: numpy in /usr/local/lib/python3.7/dist-packages (from visualdl) (1.21.6)\n",
            "Collecting pre-commit\n",
            "  Downloading pre_commit-2.19.0-py2.py3-none-any.whl (199 kB)\n",
            "\u001b[K     |████████████████████████████████| 199 kB 46.0 MB/s \n",
            "\u001b[?25hRequirement already satisfied: requests in /usr/local/lib/python3.7/dist-packages (from visualdl) (2.23.0)\n",
            "Requirement already satisfied: matplotlib in /usr/local/lib/python3.7/dist-packages (from visualdl) (3.2.2)\n",
            "Collecting flake8>=3.7.9\n",
            "  Downloading flake8-4.0.1-py2.py3-none-any.whl (64 kB)\n",
            "\u001b[K     |████████████████████████████████| 64 kB 2.2 MB/s \n",
            "\u001b[?25hRequirement already satisfied: flask>=1.1.1 in /usr/local/lib/python3.7/dist-packages (from visualdl) (1.1.4)\n",
            "Requirement already satisfied: protobuf>=3.11.0 in /usr/local/lib/python3.7/dist-packages (from visualdl) (3.17.3)\n",
            "Collecting shellcheck-py\n",
            "  Downloading shellcheck_py-0.8.0.4-py2.py3-none-manylinux_2_5_x86_64.manylinux1_x86_64.manylinux_2_17_x86_64.manylinux2014_x86_64.whl (2.1 MB)\n",
            "\u001b[K     |████████████████████████████████| 2.1 MB 27.7 MB/s \n",
            "\u001b[?25hCollecting pyflakes<2.5.0,>=2.4.0\n",
            "  Downloading pyflakes-2.4.0-py2.py3-none-any.whl (69 kB)\n",
            "\u001b[K     |████████████████████████████████| 69 kB 7.2 MB/s \n",
            "\u001b[?25hCollecting pycodestyle<2.9.0,>=2.8.0\n",
            "  Downloading pycodestyle-2.8.0-py2.py3-none-any.whl (42 kB)\n",
            "\u001b[K     |████████████████████████████████| 42 kB 610 kB/s \n",
            "\u001b[?25hCollecting mccabe<0.7.0,>=0.6.0\n",
            "  Downloading mccabe-0.6.1-py2.py3-none-any.whl (8.6 kB)\n",
            "Collecting importlib-metadata<4.3\n",
            "  Downloading importlib_metadata-4.2.0-py3-none-any.whl (16 kB)\n",
            "Requirement already satisfied: Jinja2<3.0,>=2.10.1 in /usr/local/lib/python3.7/dist-packages (from flask>=1.1.1->visualdl) (2.11.3)\n",
            "Requirement already satisfied: Werkzeug<2.0,>=0.15 in /usr/local/lib/python3.7/dist-packages (from flask>=1.1.1->visualdl) (1.0.1)\n",
            "Requirement already satisfied: itsdangerous<2.0,>=0.24 in /usr/local/lib/python3.7/dist-packages (from flask>=1.1.1->visualdl) (1.1.0)\n",
            "Requirement already satisfied: click<8.0,>=5.1 in /usr/local/lib/python3.7/dist-packages (from flask>=1.1.1->visualdl) (7.1.2)\n",
            "Requirement already satisfied: Babel>=2.3 in /usr/local/lib/python3.7/dist-packages (from Flask-Babel>=1.0.0->visualdl) (2.10.1)\n",
            "Requirement already satisfied: pytz in /usr/local/lib/python3.7/dist-packages (from Flask-Babel>=1.0.0->visualdl) (2022.1)\n",
            "Requirement already satisfied: typing-extensions>=3.6.4 in /usr/local/lib/python3.7/dist-packages (from importlib-metadata<4.3->flake8>=3.7.9->visualdl) (4.2.0)\n",
            "Requirement already satisfied: zipp>=0.5 in /usr/local/lib/python3.7/dist-packages (from importlib-metadata<4.3->flake8>=3.7.9->visualdl) (3.8.0)\n",
            "Requirement already satisfied: MarkupSafe>=0.23 in /usr/local/lib/python3.7/dist-packages (from Jinja2<3.0,>=2.10.1->flask>=1.1.1->visualdl) (2.0.1)\n",
            "Collecting pycryptodome>=3.8.0\n",
            "  Downloading pycryptodome-3.14.1-cp35-abi3-manylinux2010_x86_64.whl (2.0 MB)\n",
            "\u001b[K     |████████████████████████████████| 2.0 MB 38.3 MB/s \n",
            "\u001b[?25hRequirement already satisfied: future>=0.6.0 in /usr/local/lib/python3.7/dist-packages (from bce-python-sdk->visualdl) (0.16.0)\n",
            "Requirement already satisfied: python-dateutil>=2.1 in /usr/local/lib/python3.7/dist-packages (from matplotlib->visualdl) (2.8.2)\n",
            "Requirement already satisfied: pyparsing!=2.0.4,!=2.1.2,!=2.1.6,>=2.0.1 in /usr/local/lib/python3.7/dist-packages (from matplotlib->visualdl) (3.0.8)\n",
            "Requirement already satisfied: kiwisolver>=1.0.1 in /usr/local/lib/python3.7/dist-packages (from matplotlib->visualdl) (1.4.2)\n",
            "Requirement already satisfied: cycler>=0.10 in /usr/local/lib/python3.7/dist-packages (from matplotlib->visualdl) (0.11.0)\n",
            "Collecting identify>=1.0.0\n",
            "  Downloading identify-2.5.0-py2.py3-none-any.whl (98 kB)\n",
            "\u001b[K     |████████████████████████████████| 98 kB 7.5 MB/s \n",
            "\u001b[?25hCollecting pyyaml>=5.1\n",
            "  Downloading PyYAML-6.0-cp37-cp37m-manylinux_2_5_x86_64.manylinux1_x86_64.manylinux_2_12_x86_64.manylinux2010_x86_64.whl (596 kB)\n",
            "\u001b[K     |████████████████████████████████| 596 kB 49.6 MB/s \n",
            "\u001b[?25hCollecting virtualenv>=20.0.8\n",
            "  Downloading virtualenv-20.14.1-py2.py3-none-any.whl (8.8 MB)\n",
            "\u001b[K     |████████████████████████████████| 8.8 MB 41.1 MB/s \n",
            "\u001b[?25hCollecting nodeenv>=0.11.1\n",
            "  Downloading nodeenv-1.6.0-py2.py3-none-any.whl (21 kB)\n",
            "Collecting toml\n",
            "  Downloading toml-0.10.2-py2.py3-none-any.whl (16 kB)\n",
            "Collecting cfgv>=2.0.0\n",
            "  Downloading cfgv-3.3.1-py2.py3-none-any.whl (7.3 kB)\n",
            "Collecting distlib<1,>=0.3.1\n",
            "  Downloading distlib-0.3.4-py2.py3-none-any.whl (461 kB)\n",
            "\u001b[K     |████████████████████████████████| 461 kB 52.4 MB/s \n",
            "\u001b[?25hRequirement already satisfied: filelock<4,>=3.2 in /usr/local/lib/python3.7/dist-packages (from virtualenv>=20.0.8->pre-commit->visualdl) (3.6.0)\n",
            "Collecting platformdirs<3,>=2\n",
            "  Downloading platformdirs-2.5.2-py3-none-any.whl (14 kB)\n",
            "Requirement already satisfied: certifi>=2017.4.17 in /usr/local/lib/python3.7/dist-packages (from requests->visualdl) (2021.10.8)\n",
            "Requirement already satisfied: idna<3,>=2.5 in /usr/local/lib/python3.7/dist-packages (from requests->visualdl) (2.10)\n",
            "Requirement already satisfied: chardet<4,>=3.0.2 in /usr/local/lib/python3.7/dist-packages (from requests->visualdl) (3.0.4)\n",
            "Requirement already satisfied: urllib3!=1.25.0,!=1.25.1,<1.26,>=1.21.1 in /usr/local/lib/python3.7/dist-packages (from requests->visualdl) (1.24.3)\n",
            "Building wheels for collected packages: bce-python-sdk\n",
            "  Building wheel for bce-python-sdk (setup.py) ... \u001b[?25l\u001b[?25hdone\n",
            "  Created wheel for bce-python-sdk: filename=bce_python_sdk-0.8.64-py3-none-any.whl size=202973 sha256=377f1e93cab6573715dd3eba57950104bc4add8cf46765b3d42759e88b6f637e\n",
            "  Stored in directory: /root/.cache/pip/wheels/fd/ee/a5/4ad3bdc0e60b48e892e8bd6f661a3201d7e76dccfa9e968b34\n",
            "Successfully built bce-python-sdk\n",
            "Installing collected packages: platformdirs, importlib-metadata, distlib, virtualenv, toml, pyyaml, pyflakes, pycryptodome, pycodestyle, nodeenv, mccabe, identify, cfgv, shellcheck-py, pre-commit, Flask-Babel, flake8, bce-python-sdk, visualdl\n",
            "  Attempting uninstall: importlib-metadata\n",
            "    Found existing installation: importlib-metadata 4.11.3\n",
            "    Uninstalling importlib-metadata-4.11.3:\n",
            "      Successfully uninstalled importlib-metadata-4.11.3\n",
            "  Attempting uninstall: pyyaml\n",
            "    Found existing installation: PyYAML 3.13\n",
            "    Uninstalling PyYAML-3.13:\n",
            "      Successfully uninstalled PyYAML-3.13\n",
            "\u001b[31mERROR: pip's dependency resolver does not currently take into account all the packages that are installed. This behaviour is the source of the following dependency conflicts.\n",
            "markdown 3.3.6 requires importlib-metadata>=4.4; python_version < \"3.10\", but you have importlib-metadata 4.2.0 which is incompatible.\u001b[0m\n",
            "Successfully installed Flask-Babel-2.0.0 bce-python-sdk-0.8.64 cfgv-3.3.1 distlib-0.3.4 flake8-4.0.1 identify-2.5.0 importlib-metadata-4.2.0 mccabe-0.6.1 nodeenv-1.6.0 platformdirs-2.5.2 pre-commit-2.19.0 pycodestyle-2.8.0 pycryptodome-3.14.1 pyflakes-2.4.0 pyyaml-6.0 shellcheck-py-0.8.0.4 toml-0.10.2 virtualenv-20.14.1 visualdl-2.2.3\n"
          ]
        }
      ]
    },
    {
      "cell_type": "code",
      "source": [
        "import matplotlib.pyplot as plt\n"
      ],
      "metadata": {
        "id": "qweJ9IyTMt_V"
      },
      "execution_count": 15,
      "outputs": []
    },
    {
      "cell_type": "code",
      "source": [
        "model = RecommenderNet(num_users, num_movies, EMBEDDING_SIZE)\n",
        "model = paddle.Model(model)\n",
        "\n",
        "optimizer = paddle.optimizer.Adam(parameters=model.parameters(), learning_rate=0.0003)\n",
        "loss = nn.BCELoss()\n",
        "metric = paddle.metric.Accuracy()\n",
        "\n",
        "# 设置visualdl路径\n",
        "log_dir = './visualdl'\n",
        "callback = paddle.callbacks.VisualDL(log_dir=log_dir)\n",
        "\n",
        "model.prepare(optimizer, loss, metric)\n",
        "model.fit(train_loader, epochs=5, save_dir='/content/drive/My Drive/recommender/model/checkpoints', verbose=1, callbacks=callback)\n",
        "\n"
      ],
      "metadata": {
        "colab": {
          "base_uri": "https://localhost:8080/"
        },
        "id": "5CxMR2N3HpXa",
        "outputId": "c60c837c-8289-45b2-f8c4-45bec4c82669"
      },
      "execution_count": 19,
      "outputs": [
        {
          "output_type": "stream",
          "name": "stdout",
          "text": [
            "The loss value printed in the log is the current step, and the metric is the average value of previous steps.\n",
            "Epoch 1/5\n"
          ]
        },
        {
          "output_type": "stream",
          "name": "stderr",
          "text": [
            "/usr/local/lib/python3.7/dist-packages/paddle/fluid/dygraph/math_op_patch.py:253: UserWarning: The dtype of left and right variables are not the same, left dtype is paddle.int64, but right dtype is paddle.float32, the right dtype will convert to paddle.int64\n",
            "  format(lhs_dtype, rhs_dtype, lhs_dtype))\n"
          ]
        },
        {
          "output_type": "stream",
          "name": "stdout",
          "text": [
            "step 140627/140627 [==============================] - loss: 0.5822 - acc: 0.8551 - 8ms/step          \n",
            "save checkpoint at /content/drive/My Drive/recommender/model/checkpoints/0\n",
            "Epoch 2/5\n",
            "step 140627/140627 [==============================] - loss: 0.5778 - acc: 0.8551 - 8ms/step          \n",
            "save checkpoint at /content/drive/My Drive/recommender/model/checkpoints/1\n",
            "Epoch 3/5\n",
            "step 140627/140627 [==============================] - loss: 0.5971 - acc: 0.8551 - 7ms/step          \n",
            "save checkpoint at /content/drive/My Drive/recommender/model/checkpoints/2\n",
            "Epoch 4/5\n",
            "step 140627/140627 [==============================] - loss: 0.5935 - acc: 0.8551 - 7ms/step          \n",
            "save checkpoint at /content/drive/My Drive/recommender/model/checkpoints/3\n",
            "Epoch 5/5\n",
            "step 140627/140627 [==============================] - loss: 0.5226 - acc: 0.8551 - 8ms/step          \n",
            "save checkpoint at /content/drive/My Drive/recommender/model/checkpoints/4\n",
            "save checkpoint at /content/drive/My Drive/recommender/model/checkpoints/final\n"
          ]
        }
      ]
    },
    {
      "cell_type": "code",
      "source": [
        "model.evaluate(test_loader, batch_size=64, verbose=1)\n",
        "\n"
      ],
      "metadata": {
        "colab": {
          "base_uri": "https://localhost:8080/"
        },
        "id": "qLXnWcJQHvzn",
        "outputId": "9a5c3e65-87c1-4f5e-b85e-da8f57e4a732"
      },
      "execution_count": 20,
      "outputs": [
        {
          "output_type": "stream",
          "name": "stdout",
          "text": [
            "Eval begin...\n",
            "step    50/15626 [..............................] - loss: 0.5787 - acc: 0.8525 - ETA: 1:45 - 7ms/step"
          ]
        },
        {
          "output_type": "stream",
          "name": "stderr",
          "text": [
            "/usr/local/lib/python3.7/dist-packages/paddle/fluid/dygraph/math_op_patch.py:253: UserWarning: The dtype of left and right variables are not the same, left dtype is paddle.int64, but right dtype is paddle.float32, the right dtype will convert to paddle.int64\n",
            "  format(lhs_dtype, rhs_dtype, lhs_dtype))\n"
          ]
        },
        {
          "output_type": "stream",
          "name": "stdout",
          "text": [
            "step 15626/15626 [==============================] - loss: 0.5587 - acc: 0.8548 - 3ms/step          \n",
            "Eval samples: 2000027\n"
          ]
        },
        {
          "output_type": "execute_result",
          "data": {
            "text/plain": [
              "{'acc': 0.8548319597685431, 'loss': [0.5587272]}"
            ]
          },
          "metadata": {},
          "execution_count": 20
        }
      ]
    },
    {
      "cell_type": "code",
      "source": [
        "movie_df = pd.read_csv('/content/drive/My Drive/ml-20m/movies.csv')\n",
        "\n",
        "# 获取一个用户，查看他的推荐电影\n",
        "user_id = df.userId.sample(1).iloc[0]\n",
        "movies_watched_by_user = df[df.userId == user_id]\n",
        "movies_not_watched = movie_df[\n",
        "    ~movie_df[\"movieId\"].isin(movies_watched_by_user.movieId.values)\n",
        "][\"movieId\"]\n",
        "movies_not_watched = list(\n",
        "    set(movies_not_watched).intersection(set(movie2movie_encoded.keys()))\n",
        ")\n",
        "movies_not_watched = [[movie2movie_encoded.get(x)] for x in movies_not_watched]\n",
        "user_encoder = user2user_encoded.get(user_id)\n",
        "user_movie_array = np.hstack(\n",
        "    ([[user_encoder]] * len(movies_not_watched), movies_not_watched)\n",
        ")\n",
        "testdataset = SelfDefinedDataset(user_movie_array, user_movie_array, mode = 'predict')\n",
        "test_loader = paddle.io.DataLoader(testdataset, batch_size = 26743, shuffle = False, return_list=True,)   \n",
        "\n",
        "ratings = model.predict(test_loader)\n",
        "ratings = np.array(ratings)\n",
        "ratings = np.squeeze(ratings, 0)\n",
        "ratings = np.squeeze(ratings, 2)\n",
        "ratings = np.squeeze(ratings, 0)\n",
        "top_ratings_indices = ratings.argsort()[::-1][0:10]\n",
        "\n",
        "print(top_ratings_indices)\n",
        "recommended_movie_ids = [\n",
        "    movie_encoded2movie.get(movies_not_watched[x][0]) for x in top_ratings_indices\n",
        "]\n",
        "\n",
        "print(\"用户的ID为: {}\".format(user_id))\n",
        "print(\"====\" * 8)\n",
        "print(\"用户评分较高的电影：\")\n",
        "print(\"----\" * 8)\n",
        "top_movies_user = (\n",
        "    movies_watched_by_user.sort_values(by=\"rating\", ascending=False)\n",
        "    .head(5)\n",
        "    .movieId.values\n",
        ")\n",
        "movie_df_rows = movie_df[movie_df[\"movieId\"].isin(top_movies_user)]\n",
        "for row in movie_df_rows.itertuples():\n",
        "    print(row.title, \":\", row.genres)\n",
        "\n",
        "print(\"----\" * 8)\n",
        "print(\"为用户推荐的10部电影：\")\n",
        "print(\"----\" * 8)\n",
        "recommended_movies = movie_df[movie_df[\"movieId\"].isin(recommended_movie_ids)]\n",
        "for row in recommended_movies.itertuples():\n",
        "    print(row.title, \":\", row.genres)\n",
        "\n"
      ],
      "metadata": {
        "colab": {
          "base_uri": "https://localhost:8080/"
        },
        "id": "Pnzd5GolSDxw",
        "outputId": "e7780e67-e33b-4a42-f817-fe5ce54d36c4"
      },
      "execution_count": 27,
      "outputs": [
        {
          "output_type": "stream",
          "name": "stdout",
          "text": [
            "Predict begin...\n",
            "\rstep 1/1 [==============================] - 52ms/step\n",
            "Predict samples: 26606\n",
            "[  312 22500  8874 18868 15117 18571  8534   634   633  9924]\n",
            "用户的ID为: 63322\n",
            "================================\n",
            "用户评分较高的电影：\n",
            "--------------------------------\n",
            "Taxi Driver (1976) : Crime|Drama|Thriller\n",
            "Rock, The (1996) : Action|Adventure|Thriller\n",
            "Star Wars: Episode V - The Empire Strikes Back (1980) : Action|Adventure|Sci-Fi\n",
            "Lawrence of Arabia (1962) : Adventure|Drama|War\n",
            "Apocalypse Now (1979) : Action|Drama|War\n",
            "--------------------------------\n",
            "为用户推荐的10部电影：\n",
            "--------------------------------\n",
            "Shawshank Redemption, The (1994) : Crime|Drama\n",
            "Song of the Little Road (Pather Panchali) (1955) : Drama\n",
            "World of Apu, The (Apur Sansar) (1959) : Drama\n",
            "Harakiri (Seppuku) (1962) : Drama\n",
            "Decalogue, The (Dekalog) (1989) : Crime|Drama|Romance\n",
            "Sorrow and the Pity, The (Le chagrin et la pitié) (1969) : Documentary|War\n",
            "Cosmos (1980) : Documentary\n",
            "Civil War, The (1990) : Documentary|War\n",
            "Black Mirror (2011) : Drama|Sci-Fi\n",
            "Fawlty Towers (1975-1979) : Comedy\n"
          ]
        }
      ]
    },
    {
      "cell_type": "code",
      "source": [
        "mkdir /content/drive/My Drive/recommender"
      ],
      "metadata": {
        "colab": {
          "base_uri": "https://localhost:8080/"
        },
        "id": "Iz-P7OFdSHh7",
        "outputId": "666bb602-f8d3-4179-ffc7-26604a460707"
      },
      "execution_count": 18,
      "outputs": [
        {
          "output_type": "stream",
          "name": "stdout",
          "text": [
            "mkdir: cannot create directory ‘/content/drive/My’: Operation not supported\n",
            "mkdir: cannot create directory ‘Drive/recommender’: No such file or directory\n"
          ]
        }
      ]
    },
    {
      "cell_type": "code",
      "source": [
        ""
      ],
      "metadata": {
        "id": "Q8huMe3ySMjM"
      },
      "execution_count": null,
      "outputs": []
    }
  ]
}